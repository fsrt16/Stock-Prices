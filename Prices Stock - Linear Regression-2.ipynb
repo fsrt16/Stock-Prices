{
 "cells": [
  {
   "cell_type": "code",
   "execution_count": 258,
   "metadata": {},
   "outputs": [],
   "source": [
    "import numpy as np\n",
    "import seaborn as sns\n",
    "import pandas as pd\n",
    "import matplotlib.pyplot as plt\n",
    "from scipy import stats\n",
    "\n",
    "%matplotlib inline"
   ]
  },
  {
   "cell_type": "code",
   "execution_count": 259,
   "metadata": {},
   "outputs": [],
   "source": [
    "#Open data of Stock Prices\n",
    "diretorio_base = '/Users/romsiq/Downloads/CURSO_DATA_LIT/Machine Learning/prices_stock/'\n",
    "arquivo = 'prices_stock.csv'"
   ]
  },
  {
   "cell_type": "code",
   "execution_count": 260,
   "metadata": {},
   "outputs": [],
   "source": [
    "dados = pd.read_csv(diretorio_base+arquivo, delimiter=',')"
   ]
  },
  {
   "cell_type": "code",
   "execution_count": 261,
   "metadata": {},
   "outputs": [
    {
     "data": {
      "text/html": [
       "<div>\n",
       "<style scoped>\n",
       "    .dataframe tbody tr th:only-of-type {\n",
       "        vertical-align: middle;\n",
       "    }\n",
       "\n",
       "    .dataframe tbody tr th {\n",
       "        vertical-align: top;\n",
       "    }\n",
       "\n",
       "    .dataframe thead th {\n",
       "        text-align: right;\n",
       "    }\n",
       "</style>\n",
       "<table border=\"1\" class=\"dataframe\">\n",
       "  <thead>\n",
       "    <tr style=\"text-align: right;\">\n",
       "      <th></th>\n",
       "      <th>Date</th>\n",
       "      <th>Open</th>\n",
       "      <th>High</th>\n",
       "      <th>Low</th>\n",
       "      <th>Close</th>\n",
       "      <th>Adj Close</th>\n",
       "      <th>Volume</th>\n",
       "    </tr>\n",
       "  </thead>\n",
       "  <tbody>\n",
       "    <tr>\n",
       "      <th>0</th>\n",
       "      <td>2019-02-13</td>\n",
       "      <td>19.549999</td>\n",
       "      <td>19.670000</td>\n",
       "      <td>19.350000</td>\n",
       "      <td>19.410000</td>\n",
       "      <td>19.410000</td>\n",
       "      <td>45800</td>\n",
       "    </tr>\n",
       "    <tr>\n",
       "      <th>1</th>\n",
       "      <td>2019-02-14</td>\n",
       "      <td>19.299999</td>\n",
       "      <td>19.500000</td>\n",
       "      <td>19.090000</td>\n",
       "      <td>19.129999</td>\n",
       "      <td>19.129999</td>\n",
       "      <td>89700</td>\n",
       "    </tr>\n",
       "    <tr>\n",
       "      <th>2</th>\n",
       "      <td>2019-02-15</td>\n",
       "      <td>19.200001</td>\n",
       "      <td>19.639999</td>\n",
       "      <td>19.180000</td>\n",
       "      <td>19.590000</td>\n",
       "      <td>19.590000</td>\n",
       "      <td>146000</td>\n",
       "    </tr>\n",
       "    <tr>\n",
       "      <th>3</th>\n",
       "      <td>2019-02-19</td>\n",
       "      <td>19.500000</td>\n",
       "      <td>19.600000</td>\n",
       "      <td>19.100000</td>\n",
       "      <td>19.549999</td>\n",
       "      <td>19.549999</td>\n",
       "      <td>138100</td>\n",
       "    </tr>\n",
       "    <tr>\n",
       "      <th>4</th>\n",
       "      <td>2019-02-20</td>\n",
       "      <td>19.660000</td>\n",
       "      <td>20.059999</td>\n",
       "      <td>19.520000</td>\n",
       "      <td>19.920000</td>\n",
       "      <td>19.920000</td>\n",
       "      <td>133400</td>\n",
       "    </tr>\n",
       "    <tr>\n",
       "      <th>5</th>\n",
       "      <td>2019-02-21</td>\n",
       "      <td>19.740000</td>\n",
       "      <td>20.790001</td>\n",
       "      <td>19.530001</td>\n",
       "      <td>20.190001</td>\n",
       "      <td>20.190001</td>\n",
       "      <td>167000</td>\n",
       "    </tr>\n",
       "    <tr>\n",
       "      <th>6</th>\n",
       "      <td>2019-02-22</td>\n",
       "      <td>20.389999</td>\n",
       "      <td>21.080000</td>\n",
       "      <td>20.379999</td>\n",
       "      <td>21.000000</td>\n",
       "      <td>21.000000</td>\n",
       "      <td>434100</td>\n",
       "    </tr>\n",
       "    <tr>\n",
       "      <th>7</th>\n",
       "      <td>2019-02-25</td>\n",
       "      <td>21.100000</td>\n",
       "      <td>21.340000</td>\n",
       "      <td>20.940001</td>\n",
       "      <td>21.170000</td>\n",
       "      <td>21.170000</td>\n",
       "      <td>145900</td>\n",
       "    </tr>\n",
       "    <tr>\n",
       "      <th>8</th>\n",
       "      <td>2019-02-26</td>\n",
       "      <td>21.170000</td>\n",
       "      <td>21.540001</td>\n",
       "      <td>21.040001</td>\n",
       "      <td>21.160000</td>\n",
       "      <td>21.160000</td>\n",
       "      <td>158600</td>\n",
       "    </tr>\n",
       "    <tr>\n",
       "      <th>9</th>\n",
       "      <td>2019-02-27</td>\n",
       "      <td>21.139999</td>\n",
       "      <td>21.290001</td>\n",
       "      <td>20.799999</td>\n",
       "      <td>20.980000</td>\n",
       "      <td>20.980000</td>\n",
       "      <td>77400</td>\n",
       "    </tr>\n",
       "    <tr>\n",
       "      <th>10</th>\n",
       "      <td>2019-02-28</td>\n",
       "      <td>20.879999</td>\n",
       "      <td>21.100000</td>\n",
       "      <td>20.590000</td>\n",
       "      <td>21.010000</td>\n",
       "      <td>21.010000</td>\n",
       "      <td>124400</td>\n",
       "    </tr>\n",
       "    <tr>\n",
       "      <th>11</th>\n",
       "      <td>2019-03-01</td>\n",
       "      <td>21.160000</td>\n",
       "      <td>21.430000</td>\n",
       "      <td>21.040001</td>\n",
       "      <td>21.430000</td>\n",
       "      <td>21.430000</td>\n",
       "      <td>95300</td>\n",
       "    </tr>\n",
       "    <tr>\n",
       "      <th>12</th>\n",
       "      <td>2019-03-04</td>\n",
       "      <td>21.520000</td>\n",
       "      <td>21.610001</td>\n",
       "      <td>21.320000</td>\n",
       "      <td>21.389999</td>\n",
       "      <td>21.389999</td>\n",
       "      <td>103900</td>\n",
       "    </tr>\n",
       "    <tr>\n",
       "      <th>13</th>\n",
       "      <td>2019-03-05</td>\n",
       "      <td>21.410000</td>\n",
       "      <td>21.650000</td>\n",
       "      <td>21.280001</td>\n",
       "      <td>21.549999</td>\n",
       "      <td>21.549999</td>\n",
       "      <td>110900</td>\n",
       "    </tr>\n",
       "    <tr>\n",
       "      <th>14</th>\n",
       "      <td>2019-03-06</td>\n",
       "      <td>21.480000</td>\n",
       "      <td>21.480000</td>\n",
       "      <td>20.660000</td>\n",
       "      <td>20.780001</td>\n",
       "      <td>20.780001</td>\n",
       "      <td>94700</td>\n",
       "    </tr>\n",
       "    <tr>\n",
       "      <th>15</th>\n",
       "      <td>2019-03-07</td>\n",
       "      <td>20.809999</td>\n",
       "      <td>20.809999</td>\n",
       "      <td>20.340000</td>\n",
       "      <td>20.570000</td>\n",
       "      <td>20.570000</td>\n",
       "      <td>95800</td>\n",
       "    </tr>\n",
       "    <tr>\n",
       "      <th>16</th>\n",
       "      <td>2019-03-08</td>\n",
       "      <td>20.410000</td>\n",
       "      <td>21.100000</td>\n",
       "      <td>20.410000</td>\n",
       "      <td>20.990000</td>\n",
       "      <td>20.990000</td>\n",
       "      <td>138000</td>\n",
       "    </tr>\n",
       "    <tr>\n",
       "      <th>17</th>\n",
       "      <td>2019-03-11</td>\n",
       "      <td>21.030001</td>\n",
       "      <td>21.100000</td>\n",
       "      <td>20.709999</td>\n",
       "      <td>20.889999</td>\n",
       "      <td>20.889999</td>\n",
       "      <td>74500</td>\n",
       "    </tr>\n",
       "    <tr>\n",
       "      <th>18</th>\n",
       "      <td>2019-03-12</td>\n",
       "      <td>20.790001</td>\n",
       "      <td>20.910000</td>\n",
       "      <td>20.340000</td>\n",
       "      <td>20.370001</td>\n",
       "      <td>20.370001</td>\n",
       "      <td>96100</td>\n",
       "    </tr>\n",
       "    <tr>\n",
       "      <th>19</th>\n",
       "      <td>2019-03-13</td>\n",
       "      <td>20.299999</td>\n",
       "      <td>20.330000</td>\n",
       "      <td>20.180000</td>\n",
       "      <td>20.219999</td>\n",
       "      <td>20.219999</td>\n",
       "      <td>20005</td>\n",
       "    </tr>\n",
       "  </tbody>\n",
       "</table>\n",
       "</div>"
      ],
      "text/plain": [
       "          Date       Open       High        Low      Close  Adj Close  Volume\n",
       "0   2019-02-13  19.549999  19.670000  19.350000  19.410000  19.410000   45800\n",
       "1   2019-02-14  19.299999  19.500000  19.090000  19.129999  19.129999   89700\n",
       "2   2019-02-15  19.200001  19.639999  19.180000  19.590000  19.590000  146000\n",
       "3   2019-02-19  19.500000  19.600000  19.100000  19.549999  19.549999  138100\n",
       "4   2019-02-20  19.660000  20.059999  19.520000  19.920000  19.920000  133400\n",
       "5   2019-02-21  19.740000  20.790001  19.530001  20.190001  20.190001  167000\n",
       "6   2019-02-22  20.389999  21.080000  20.379999  21.000000  21.000000  434100\n",
       "7   2019-02-25  21.100000  21.340000  20.940001  21.170000  21.170000  145900\n",
       "8   2019-02-26  21.170000  21.540001  21.040001  21.160000  21.160000  158600\n",
       "9   2019-02-27  21.139999  21.290001  20.799999  20.980000  20.980000   77400\n",
       "10  2019-02-28  20.879999  21.100000  20.590000  21.010000  21.010000  124400\n",
       "11  2019-03-01  21.160000  21.430000  21.040001  21.430000  21.430000   95300\n",
       "12  2019-03-04  21.520000  21.610001  21.320000  21.389999  21.389999  103900\n",
       "13  2019-03-05  21.410000  21.650000  21.280001  21.549999  21.549999  110900\n",
       "14  2019-03-06  21.480000  21.480000  20.660000  20.780001  20.780001   94700\n",
       "15  2019-03-07  20.809999  20.809999  20.340000  20.570000  20.570000   95800\n",
       "16  2019-03-08  20.410000  21.100000  20.410000  20.990000  20.990000  138000\n",
       "17  2019-03-11  21.030001  21.100000  20.709999  20.889999  20.889999   74500\n",
       "18  2019-03-12  20.790001  20.910000  20.340000  20.370001  20.370001   96100\n",
       "19  2019-03-13  20.299999  20.330000  20.180000  20.219999  20.219999   20005"
      ]
     },
     "execution_count": 261,
     "metadata": {},
     "output_type": "execute_result"
    }
   ],
   "source": [
    "dados"
   ]
  },
  {
   "cell_type": "code",
   "execution_count": 262,
   "metadata": {},
   "outputs": [
    {
     "name": "stdout",
     "output_type": "stream",
     "text": [
      "<class 'pandas.core.frame.DataFrame'>\n",
      "RangeIndex: 20 entries, 0 to 19\n",
      "Data columns (total 7 columns):\n",
      "Date         20 non-null object\n",
      "Open         20 non-null float64\n",
      "High         20 non-null float64\n",
      "Low          20 non-null float64\n",
      "Close        20 non-null float64\n",
      "Adj Close    20 non-null float64\n",
      "Volume       20 non-null int64\n",
      "dtypes: float64(5), int64(1), object(1)\n",
      "memory usage: 1.2+ KB\n"
     ]
    }
   ],
   "source": [
    "dados.info()"
   ]
  },
  {
   "cell_type": "code",
   "execution_count": 263,
   "metadata": {},
   "outputs": [
    {
     "data": {
      "image/png": "[encoded data removed]",
      "text/plain": [
       "<Figure size 1440x432 with 1 Axes>"
      ]
     },
     "metadata": {},
     "output_type": "display_data"
    },
    {
     "data": {
      "image/png": "[encoded data removed]",
      "text/plain": [
       "<Figure size 1440x432 with 1 Axes>"
      ]
     },
     "metadata": {},
     "output_type": "display_data"
    }
   ],
   "source": [
    "#Verify null datas\n",
    "\n",
    "plt.figure(figsize=(20,6))\n",
    "sns.heatmap(dados.select_dtypes(exclude=['object']).isnull(), yticklabels=False, cbar = False, cmap = 'viridis')\n",
    "plt.title('Null Values present in Numerical Attributes',fontsize=18)\n",
    "plt.show()\n",
    "\n",
    "plt.figure(figsize=(20,6))\n",
    "sns.heatmap(dados.select_dtypes(exclude=['int64','float64']).isnull(), yticklabels=False, cbar = False, cmap = 'viridis')\n",
    "plt.title('Null Values present in Categorical Attributes',fontsize=18)\n",
    "plt.show()"
   ]
  },
  {
   "cell_type": "code",
   "execution_count": 264,
   "metadata": {},
   "outputs": [
    {
     "data": {
      "image/png": "[encoded data removed]",
      "text/plain": [
       "<Figure size 1440x1080 with 6 Axes>"
      ]
     },
     "metadata": {},
     "output_type": "display_data"
    },
    {
     "data": {
      "text/plain": [
       "<Figure size 432x288 with 0 Axes>"
      ]
     },
     "metadata": {},
     "output_type": "display_data"
    }
   ],
   "source": [
    "#Exploratory data visualization\n",
    "\n",
    "sns.set_style('whitegrid')\n",
    "dados.hist(bins = 30, figsize = (20,15), color = 'darkgreen')\n",
    "plt.show()\n",
    "plt.tight_layout()"
   ]
  },
  {
   "cell_type": "code",
   "execution_count": 265,
   "metadata": {},
   "outputs": [
    {
     "data": {
      "text/plain": [
       "<matplotlib.axes._subplots.AxesSubplot at 0x11b6b3c18>"
      ]
     },
     "execution_count": 265,
     "metadata": {},
     "output_type": "execute_result"
    },
    {
     "data": {
      "image/png": "[encoded data removed]",
      "text/plain": [
       "<Figure size 432x288 with 1 Axes>"
      ]
     },
     "metadata": {},
     "output_type": "display_data"
    }
   ],
   "source": [
    "dados.plot.scatter(x='Open', y='Volume')"
   ]
  },
  {
   "cell_type": "code",
   "execution_count": 266,
   "metadata": {},
   "outputs": [
    {
     "data": {
      "text/plain": [
       "<matplotlib.axes._subplots.AxesSubplot at 0x11e0eb278>"
      ]
     },
     "execution_count": 266,
     "metadata": {},
     "output_type": "execute_result"
    },
    {
     "data": {
      "image/png": "[encoded data removed]",
      "text/plain": [
       "<Figure size 432x288 with 1 Axes>"
      ]
     },
     "metadata": {},
     "output_type": "display_data"
    }
   ],
   "source": [
    "dados.plot.scatter(x='High', y='Volume')"
   ]
  },
  {
   "cell_type": "code",
   "execution_count": 267,
   "metadata": {},
   "outputs": [
    {
     "data": {
      "text/plain": [
       "<matplotlib.axes._subplots.AxesSubplot at 0x11e0a8da0>"
      ]
     },
     "execution_count": 267,
     "metadata": {},
     "output_type": "execute_result"
    },
    {
     "data": {
      "image/png": "[encoded data removed]",
      "text/plain": [
       "<Figure size 432x288 with 1 Axes>"
      ]
     },
     "metadata": {},
     "output_type": "display_data"
    }
   ],
   "source": [
    "dados.plot.scatter(x='Low', y='Volume')"
   ]
  },
  {
   "cell_type": "code",
   "execution_count": 268,
   "metadata": {},
   "outputs": [
    {
     "data": {
      "text/plain": [
       "<matplotlib.axes._subplots.AxesSubplot at 0x11d674e48>"
      ]
     },
     "execution_count": 268,
     "metadata": {},
     "output_type": "execute_result"
    },
    {
     "data": {
      "image/png": "[encoded data removed]",
      "text/plain": [
       "<Figure size 432x288 with 1 Axes>"
      ]
     },
     "metadata": {},
     "output_type": "display_data"
    }
   ],
   "source": [
    "dados.plot.scatter(x='Close', y='Volume')"
   ]
  },
  {
   "cell_type": "code",
   "execution_count": 269,
   "metadata": {},
   "outputs": [
    {
     "data": {
      "text/plain": [
       "<matplotlib.axes._subplots.AxesSubplot at 0x11cb475f8>"
      ]
     },
     "execution_count": 269,
     "metadata": {},
     "output_type": "execute_result"
    },
    {
     "data": {
      "image/png": "[encoded data removed]",
      "text/plain": [
       "<Figure size 432x288 with 1 Axes>"
      ]
     },
     "metadata": {},
     "output_type": "display_data"
    }
   ],
   "source": [
    "dados.plot.scatter(x='Adj Close', y='Volume')"
   ]
  },
  {
   "cell_type": "code",
   "execution_count": 270,
   "metadata": {},
   "outputs": [
    {
     "name": "stdout",
     "output_type": "stream",
     "text": [
      "O valor de correlação entre as variáveis Volume e Open é: -8.219999999999999%\n",
      "O valor de correlação entre as variáveis Volume e High é: 13.530000000000001%\n",
      "O valor de correlação entre as variáveis Volume e Low é: 0.13%\n",
      "O valor de correlação entre as variáveis Volume e Close é: 17.79%\n"
     ]
    }
   ],
   "source": [
    "corr_vol_open = dados.Volume.corr(dados.Open)\n",
    "corr_vol_high = dados.Volume.corr(dados.High)\n",
    "corr_vol_low = dados.Volume.corr(dados.Low)\n",
    "corr_vol_close = dados.Volume.corr(dados.Close)\n",
    "\n",
    "print('O valor de correlação entre as variáveis Volume e Open é: ' + str(100 * round(corr_vol_open, 4)) + '%')\n",
    "print('O valor de correlação entre as variáveis Volume e High é: ' + str(100 * round(corr_vol_high, 4)) + '%')\n",
    "print('O valor de correlação entre as variáveis Volume e Low é: ' + str(100 * round(corr_vol_low, 4)) + '%')\n",
    "print('O valor de correlação entre as variáveis Volume e Close é: ' + str(100 * round(corr_vol_close, 4)) + '%')\n"
   ]
  },
  {
   "cell_type": "code",
   "execution_count": 271,
   "metadata": {},
   "outputs": [
    {
     "name": "stdout",
     "output_type": "stream",
     "text": [
      "Vetor Y: Valores de Volume\n"
     ]
    },
    {
     "data": {
      "text/plain": [
       "0      45800\n",
       "1      89700\n",
       "2     146000\n",
       "3     138100\n",
       "4     133400\n",
       "5     167000\n",
       "6     434100\n",
       "7     145900\n",
       "8     158600\n",
       "9      77400\n",
       "10    124400\n",
       "11     95300\n",
       "12    103900\n",
       "13    110900\n",
       "14     94700\n",
       "15     95800\n",
       "16    138000\n",
       "17     74500\n",
       "18     96100\n",
       "19     20005\n",
       "Name: Volume, dtype: int64"
      ]
     },
     "execution_count": 271,
     "metadata": {},
     "output_type": "execute_result"
    }
   ],
   "source": [
    "print(\"Vetor Y: Valores de Volume\")\n",
    "dados.Volume"
   ]
  },
  {
   "cell_type": "code",
   "execution_count": 272,
   "metadata": {},
   "outputs": [
    {
     "name": "stdout",
     "output_type": "stream",
     "text": [
      "Matriz X: \n"
     ]
    },
    {
     "data": {
      "text/html": [
       "<div>\n",
       "<style scoped>\n",
       "    .dataframe tbody tr th:only-of-type {\n",
       "        vertical-align: middle;\n",
       "    }\n",
       "\n",
       "    .dataframe tbody tr th {\n",
       "        vertical-align: top;\n",
       "    }\n",
       "\n",
       "    .dataframe thead th {\n",
       "        text-align: right;\n",
       "    }\n",
       "</style>\n",
       "<table border=\"1\" class=\"dataframe\">\n",
       "  <thead>\n",
       "    <tr style=\"text-align: right;\">\n",
       "      <th></th>\n",
       "      <th>0</th>\n",
       "      <th>High</th>\n",
       "      <th>Close</th>\n",
       "    </tr>\n",
       "  </thead>\n",
       "  <tbody>\n",
       "    <tr>\n",
       "      <th>0</th>\n",
       "      <td>1</td>\n",
       "      <td>19.670000</td>\n",
       "      <td>19.410000</td>\n",
       "    </tr>\n",
       "    <tr>\n",
       "      <th>1</th>\n",
       "      <td>1</td>\n",
       "      <td>19.500000</td>\n",
       "      <td>19.129999</td>\n",
       "    </tr>\n",
       "    <tr>\n",
       "      <th>2</th>\n",
       "      <td>1</td>\n",
       "      <td>19.639999</td>\n",
       "      <td>19.590000</td>\n",
       "    </tr>\n",
       "    <tr>\n",
       "      <th>3</th>\n",
       "      <td>1</td>\n",
       "      <td>19.600000</td>\n",
       "      <td>19.549999</td>\n",
       "    </tr>\n",
       "    <tr>\n",
       "      <th>4</th>\n",
       "      <td>1</td>\n",
       "      <td>20.059999</td>\n",
       "      <td>19.920000</td>\n",
       "    </tr>\n",
       "    <tr>\n",
       "      <th>5</th>\n",
       "      <td>1</td>\n",
       "      <td>20.790001</td>\n",
       "      <td>20.190001</td>\n",
       "    </tr>\n",
       "    <tr>\n",
       "      <th>6</th>\n",
       "      <td>1</td>\n",
       "      <td>21.080000</td>\n",
       "      <td>21.000000</td>\n",
       "    </tr>\n",
       "    <tr>\n",
       "      <th>7</th>\n",
       "      <td>1</td>\n",
       "      <td>21.340000</td>\n",
       "      <td>21.170000</td>\n",
       "    </tr>\n",
       "    <tr>\n",
       "      <th>8</th>\n",
       "      <td>1</td>\n",
       "      <td>21.540001</td>\n",
       "      <td>21.160000</td>\n",
       "    </tr>\n",
       "    <tr>\n",
       "      <th>9</th>\n",
       "      <td>1</td>\n",
       "      <td>21.290001</td>\n",
       "      <td>20.980000</td>\n",
       "    </tr>\n",
       "    <tr>\n",
       "      <th>10</th>\n",
       "      <td>1</td>\n",
       "      <td>21.100000</td>\n",
       "      <td>21.010000</td>\n",
       "    </tr>\n",
       "    <tr>\n",
       "      <th>11</th>\n",
       "      <td>1</td>\n",
       "      <td>21.430000</td>\n",
       "      <td>21.430000</td>\n",
       "    </tr>\n",
       "    <tr>\n",
       "      <th>12</th>\n",
       "      <td>1</td>\n",
       "      <td>21.610001</td>\n",
       "      <td>21.389999</td>\n",
       "    </tr>\n",
       "    <tr>\n",
       "      <th>13</th>\n",
       "      <td>1</td>\n",
       "      <td>21.650000</td>\n",
       "      <td>21.549999</td>\n",
       "    </tr>\n",
       "    <tr>\n",
       "      <th>14</th>\n",
       "      <td>1</td>\n",
       "      <td>21.480000</td>\n",
       "      <td>20.780001</td>\n",
       "    </tr>\n",
       "    <tr>\n",
       "      <th>15</th>\n",
       "      <td>1</td>\n",
       "      <td>20.809999</td>\n",
       "      <td>20.570000</td>\n",
       "    </tr>\n",
       "    <tr>\n",
       "      <th>16</th>\n",
       "      <td>1</td>\n",
       "      <td>21.100000</td>\n",
       "      <td>20.990000</td>\n",
       "    </tr>\n",
       "    <tr>\n",
       "      <th>17</th>\n",
       "      <td>1</td>\n",
       "      <td>21.100000</td>\n",
       "      <td>20.889999</td>\n",
       "    </tr>\n",
       "    <tr>\n",
       "      <th>18</th>\n",
       "      <td>1</td>\n",
       "      <td>20.910000</td>\n",
       "      <td>20.370001</td>\n",
       "    </tr>\n",
       "    <tr>\n",
       "      <th>19</th>\n",
       "      <td>1</td>\n",
       "      <td>20.330000</td>\n",
       "      <td>20.219999</td>\n",
       "    </tr>\n",
       "  </tbody>\n",
       "</table>\n",
       "</div>"
      ],
      "text/plain": [
       "    0       High      Close\n",
       "0   1  19.670000  19.410000\n",
       "1   1  19.500000  19.129999\n",
       "2   1  19.639999  19.590000\n",
       "3   1  19.600000  19.549999\n",
       "4   1  20.059999  19.920000\n",
       "5   1  20.790001  20.190001\n",
       "6   1  21.080000  21.000000\n",
       "7   1  21.340000  21.170000\n",
       "8   1  21.540001  21.160000\n",
       "9   1  21.290001  20.980000\n",
       "10  1  21.100000  21.010000\n",
       "11  1  21.430000  21.430000\n",
       "12  1  21.610001  21.389999\n",
       "13  1  21.650000  21.549999\n",
       "14  1  21.480000  20.780001\n",
       "15  1  20.809999  20.570000\n",
       "16  1  21.100000  20.990000\n",
       "17  1  21.100000  20.889999\n",
       "18  1  20.910000  20.370001\n",
       "19  1  20.330000  20.219999"
      ]
     },
     "execution_count": 272,
     "metadata": {},
     "output_type": "execute_result"
    }
   ],
   "source": [
    "N = len(dados.Volume)\n",
    "ones = pd.DataFrame(np.full(N, 1))\n",
    "mat_X = pd.concat([ones, dados.High, dados.Close], axis = 1)\n",
    "\n",
    "print(\"Matriz X: \")\n",
    "mat_X"
   ]
  },
  {
   "cell_type": "code",
   "execution_count": 273,
   "metadata": {},
   "outputs": [
    {
     "name": "stdout",
     "output_type": "stream",
     "text": [
      "Matriz X Transposta:\n"
     ]
    },
    {
     "data": {
      "text/html": [
       "<div>\n",
       "<style scoped>\n",
       "    .dataframe tbody tr th:only-of-type {\n",
       "        vertical-align: middle;\n",
       "    }\n",
       "\n",
       "    .dataframe tbody tr th {\n",
       "        vertical-align: top;\n",
       "    }\n",
       "\n",
       "    .dataframe thead th {\n",
       "        text-align: right;\n",
       "    }\n",
       "</style>\n",
       "<table border=\"1\" class=\"dataframe\">\n",
       "  <thead>\n",
       "    <tr style=\"text-align: right;\">\n",
       "      <th></th>\n",
       "      <th>0</th>\n",
       "      <th>1</th>\n",
       "      <th>2</th>\n",
       "      <th>3</th>\n",
       "      <th>4</th>\n",
       "      <th>5</th>\n",
       "      <th>6</th>\n",
       "      <th>7</th>\n",
       "      <th>8</th>\n",
       "      <th>9</th>\n",
       "      <th>10</th>\n",
       "      <th>11</th>\n",
       "      <th>12</th>\n",
       "      <th>13</th>\n",
       "      <th>14</th>\n",
       "      <th>15</th>\n",
       "      <th>16</th>\n",
       "      <th>17</th>\n",
       "      <th>18</th>\n",
       "      <th>19</th>\n",
       "    </tr>\n",
       "  </thead>\n",
       "  <tbody>\n",
       "    <tr>\n",
       "      <th>0</th>\n",
       "      <td>1.00</td>\n",
       "      <td>1.000000</td>\n",
       "      <td>1.000000</td>\n",
       "      <td>1.000000</td>\n",
       "      <td>1.000000</td>\n",
       "      <td>1.000000</td>\n",
       "      <td>1.00</td>\n",
       "      <td>1.00</td>\n",
       "      <td>1.000000</td>\n",
       "      <td>1.000000</td>\n",
       "      <td>1.00</td>\n",
       "      <td>1.00</td>\n",
       "      <td>1.000000</td>\n",
       "      <td>1.000000</td>\n",
       "      <td>1.000000</td>\n",
       "      <td>1.000000</td>\n",
       "      <td>1.00</td>\n",
       "      <td>1.000000</td>\n",
       "      <td>1.000000</td>\n",
       "      <td>1.000000</td>\n",
       "    </tr>\n",
       "    <tr>\n",
       "      <th>High</th>\n",
       "      <td>19.67</td>\n",
       "      <td>19.500000</td>\n",
       "      <td>19.639999</td>\n",
       "      <td>19.600000</td>\n",
       "      <td>20.059999</td>\n",
       "      <td>20.790001</td>\n",
       "      <td>21.08</td>\n",
       "      <td>21.34</td>\n",
       "      <td>21.540001</td>\n",
       "      <td>21.290001</td>\n",
       "      <td>21.10</td>\n",
       "      <td>21.43</td>\n",
       "      <td>21.610001</td>\n",
       "      <td>21.650000</td>\n",
       "      <td>21.480000</td>\n",
       "      <td>20.809999</td>\n",
       "      <td>21.10</td>\n",
       "      <td>21.100000</td>\n",
       "      <td>20.910000</td>\n",
       "      <td>20.330000</td>\n",
       "    </tr>\n",
       "    <tr>\n",
       "      <th>Close</th>\n",
       "      <td>19.41</td>\n",
       "      <td>19.129999</td>\n",
       "      <td>19.590000</td>\n",
       "      <td>19.549999</td>\n",
       "      <td>19.920000</td>\n",
       "      <td>20.190001</td>\n",
       "      <td>21.00</td>\n",
       "      <td>21.17</td>\n",
       "      <td>21.160000</td>\n",
       "      <td>20.980000</td>\n",
       "      <td>21.01</td>\n",
       "      <td>21.43</td>\n",
       "      <td>21.389999</td>\n",
       "      <td>21.549999</td>\n",
       "      <td>20.780001</td>\n",
       "      <td>20.570000</td>\n",
       "      <td>20.99</td>\n",
       "      <td>20.889999</td>\n",
       "      <td>20.370001</td>\n",
       "      <td>20.219999</td>\n",
       "    </tr>\n",
       "  </tbody>\n",
       "</table>\n",
       "</div>"
      ],
      "text/plain": [
       "          0          1          2          3          4          5      6   \\\n",
       "0       1.00   1.000000   1.000000   1.000000   1.000000   1.000000   1.00   \n",
       "High   19.67  19.500000  19.639999  19.600000  20.059999  20.790001  21.08   \n",
       "Close  19.41  19.129999  19.590000  19.549999  19.920000  20.190001  21.00   \n",
       "\n",
       "          7          8          9      10     11         12         13  \\\n",
       "0       1.00   1.000000   1.000000   1.00   1.00   1.000000   1.000000   \n",
       "High   21.34  21.540001  21.290001  21.10  21.43  21.610001  21.650000   \n",
       "Close  21.17  21.160000  20.980000  21.01  21.43  21.389999  21.549999   \n",
       "\n",
       "              14         15     16         17         18         19  \n",
       "0       1.000000   1.000000   1.00   1.000000   1.000000   1.000000  \n",
       "High   21.480000  20.809999  21.10  21.100000  20.910000  20.330000  \n",
       "Close  20.780001  20.570000  20.99  20.889999  20.370001  20.219999  "
      ]
     },
     "execution_count": 273,
     "metadata": {},
     "output_type": "execute_result"
    }
   ],
   "source": [
    "print('Matriz X Transposta:')\n",
    "mat_X.T"
   ]
  },
  {
   "cell_type": "code",
   "execution_count": 274,
   "metadata": {},
   "outputs": [],
   "source": [
    "from numpy.linalg import inv\n",
    "\n",
    "X = mat_X.values\n",
    "Xt = mat_X.T.values"
   ]
  },
  {
   "cell_type": "code",
   "execution_count": 275,
   "metadata": {},
   "outputs": [
    {
     "data": {
      "text/html": [
       "<div>\n",
       "<style scoped>\n",
       "    .dataframe tbody tr th:only-of-type {\n",
       "        vertical-align: middle;\n",
       "    }\n",
       "\n",
       "    .dataframe tbody tr th {\n",
       "        vertical-align: top;\n",
       "    }\n",
       "\n",
       "    .dataframe thead th {\n",
       "        text-align: right;\n",
       "    }\n",
       "</style>\n",
       "<table border=\"1\" class=\"dataframe\">\n",
       "  <thead>\n",
       "    <tr style=\"text-align: right;\">\n",
       "      <th></th>\n",
       "      <th>Parametros</th>\n",
       "    </tr>\n",
       "  </thead>\n",
       "  <tbody>\n",
       "    <tr>\n",
       "      <th>0</th>\n",
       "      <td>-235606.945215</td>\n",
       "    </tr>\n",
       "    <tr>\n",
       "      <th>1</th>\n",
       "      <td>-58087.138503</td>\n",
       "    </tr>\n",
       "    <tr>\n",
       "      <th>2</th>\n",
       "      <td>76264.858796</td>\n",
       "    </tr>\n",
       "  </tbody>\n",
       "</table>\n",
       "</div>"
      ],
      "text/plain": [
       "      Parametros\n",
       "0 -235606.945215\n",
       "1  -58087.138503\n",
       "2   76264.858796"
      ]
     },
     "execution_count": 275,
     "metadata": {},
     "output_type": "execute_result"
    }
   ],
   "source": [
    "# Xt * X\n",
    "XXt = np.matmul(Xt, X)\n",
    "\n",
    "# Inverte o resultado de Xt * X\n",
    "XXt_inv = inv(XXt)\n",
    "\n",
    "# Obtem o vetor Y de saídas\n",
    "Y = dados.Volume.values\n",
    "\n",
    "# Calcula o valor do vetor b de parâmetros\n",
    "beta = np.matmul(np.matmul(XXt_inv, Xt), Y)\n",
    "\n",
    "# Transformando vetor em Coluna\n",
    "parametros = pd.DataFrame({'Parametros': beta})\n",
    "parametros"
   ]
  },
  {
   "cell_type": "code",
   "execution_count": 276,
   "metadata": {},
   "outputs": [],
   "source": [
    "def previsão_linear_multi(x1, x2, par):\n",
    "    return par[0] + x1*par[1] + x2*par[2]"
   ]
  },
  {
   "cell_type": "code",
   "execution_count": 277,
   "metadata": {},
   "outputs": [
    {
     "data": {
      "text/plain": [
       "0     102119.949651\n",
       "1      90640.526469\n",
       "2     117590.296477\n",
       "3     116863.053313\n",
       "4     118361.101708\n",
       "5      96548.962566\n",
       "6     141478.209847\n",
       "7     139340.579831\n",
       "8     126960.445456\n",
       "9     127754.555498\n",
       "10    141079.115665\n",
       "11    153941.600653\n",
       "12    140435.187019\n",
       "13    150314.136973\n",
       "14    101465.161775\n",
       "15    124367.906048\n",
       "16    139553.818489\n",
       "17    131927.256344\n",
       "18    103306.238616\n",
       "19    125556.897599\n",
       "dtype: float64"
      ]
     },
     "execution_count": 277,
     "metadata": {},
     "output_type": "execute_result"
    }
   ],
   "source": [
    "y_modelo = previsão_linear_multi(dados.High, dados.Close, beta)\n",
    "y_modelo"
   ]
  },
  {
   "cell_type": "code",
   "execution_count": 278,
   "metadata": {},
   "outputs": [
    {
     "data": {
      "image/png": "[encoded data removed]",
      "text/plain": [
       "<Figure size 1080x576 with 1 Axes>"
      ]
     },
     "metadata": {},
     "output_type": "display_data"
    }
   ],
   "source": [
    "y_real = dados.Volume.copy()\n",
    "\n",
    "plt.figure(figsize=(15,8))\n",
    "plt.plot(y_real, 'o',\n",
    "         y_modelo, '-')\n",
    "plt.show()"
   ]
  },
  {
   "cell_type": "code",
   "execution_count": 289,
   "metadata": {},
   "outputs": [],
   "source": [
    "import sklearn\n",
    "from sklearn.linear_model import LinearRegression\n",
    "from sklearn import datasets, linear_model, metrics"
   ]
  },
  {
   "cell_type": "code",
   "execution_count": 284,
   "metadata": {},
   "outputs": [
    {
     "data": {
      "text/html": [
       "<div>\n",
       "<style scoped>\n",
       "    .dataframe tbody tr th:only-of-type {\n",
       "        vertical-align: middle;\n",
       "    }\n",
       "\n",
       "    .dataframe tbody tr th {\n",
       "        vertical-align: top;\n",
       "    }\n",
       "\n",
       "    .dataframe thead th {\n",
       "        text-align: right;\n",
       "    }\n",
       "</style>\n",
       "<table border=\"1\" class=\"dataframe\">\n",
       "  <thead>\n",
       "    <tr style=\"text-align: right;\">\n",
       "      <th></th>\n",
       "      <th>index</th>\n",
       "      <th>Volume</th>\n",
       "    </tr>\n",
       "  </thead>\n",
       "  <tbody>\n",
       "    <tr>\n",
       "      <th>0</th>\n",
       "      <td>0</td>\n",
       "      <td>45800</td>\n",
       "    </tr>\n",
       "    <tr>\n",
       "      <th>1</th>\n",
       "      <td>1</td>\n",
       "      <td>89700</td>\n",
       "    </tr>\n",
       "    <tr>\n",
       "      <th>2</th>\n",
       "      <td>2</td>\n",
       "      <td>146000</td>\n",
       "    </tr>\n",
       "  </tbody>\n",
       "</table>\n",
       "</div>"
      ],
      "text/plain": [
       "   index  Volume\n",
       "0      0   45800\n",
       "1      1   89700\n",
       "2      2  146000"
      ]
     },
     "execution_count": 284,
     "metadata": {},
     "output_type": "execute_result"
    }
   ],
   "source": [
    "df_volume_only = dados[[\"Volume\"]].reset_index()\n",
    "\n",
    "df_volume_only.head(3)"
   ]
  },
  {
   "cell_type": "code",
   "execution_count": 285,
   "metadata": {},
   "outputs": [
    {
     "data": {
      "text/html": [
       "<div>\n",
       "<style scoped>\n",
       "    .dataframe tbody tr th:only-of-type {\n",
       "        vertical-align: middle;\n",
       "    }\n",
       "\n",
       "    .dataframe tbody tr th {\n",
       "        vertical-align: top;\n",
       "    }\n",
       "\n",
       "    .dataframe thead th {\n",
       "        text-align: right;\n",
       "    }\n",
       "</style>\n",
       "<table border=\"1\" class=\"dataframe\">\n",
       "  <thead>\n",
       "    <tr style=\"text-align: right;\">\n",
       "      <th></th>\n",
       "      <th>Date</th>\n",
       "      <th>Open</th>\n",
       "      <th>High</th>\n",
       "      <th>Low</th>\n",
       "      <th>Close</th>\n",
       "      <th>Adj Close</th>\n",
       "      <th>Volume</th>\n",
       "    </tr>\n",
       "  </thead>\n",
       "  <tbody>\n",
       "    <tr>\n",
       "      <th>0</th>\n",
       "      <td>2019-02-13</td>\n",
       "      <td>19.549999</td>\n",
       "      <td>19.670000</td>\n",
       "      <td>19.35</td>\n",
       "      <td>19.410000</td>\n",
       "      <td>19.410000</td>\n",
       "      <td>45800</td>\n",
       "    </tr>\n",
       "    <tr>\n",
       "      <th>1</th>\n",
       "      <td>2019-02-14</td>\n",
       "      <td>19.299999</td>\n",
       "      <td>19.500000</td>\n",
       "      <td>19.09</td>\n",
       "      <td>19.129999</td>\n",
       "      <td>19.129999</td>\n",
       "      <td>89700</td>\n",
       "    </tr>\n",
       "    <tr>\n",
       "      <th>2</th>\n",
       "      <td>2019-02-15</td>\n",
       "      <td>19.200001</td>\n",
       "      <td>19.639999</td>\n",
       "      <td>19.18</td>\n",
       "      <td>19.590000</td>\n",
       "      <td>19.590000</td>\n",
       "      <td>146000</td>\n",
       "    </tr>\n",
       "    <tr>\n",
       "      <th>3</th>\n",
       "      <td>2019-02-19</td>\n",
       "      <td>19.500000</td>\n",
       "      <td>19.600000</td>\n",
       "      <td>19.10</td>\n",
       "      <td>19.549999</td>\n",
       "      <td>19.549999</td>\n",
       "      <td>138100</td>\n",
       "    </tr>\n",
       "    <tr>\n",
       "      <th>4</th>\n",
       "      <td>2019-02-20</td>\n",
       "      <td>19.660000</td>\n",
       "      <td>20.059999</td>\n",
       "      <td>19.52</td>\n",
       "      <td>19.920000</td>\n",
       "      <td>19.920000</td>\n",
       "      <td>133400</td>\n",
       "    </tr>\n",
       "  </tbody>\n",
       "</table>\n",
       "</div>"
      ],
      "text/plain": [
       "         Date       Open       High    Low      Close  Adj Close  Volume\n",
       "0  2019-02-13  19.549999  19.670000  19.35  19.410000  19.410000   45800\n",
       "1  2019-02-14  19.299999  19.500000  19.09  19.129999  19.129999   89700\n",
       "2  2019-02-15  19.200001  19.639999  19.18  19.590000  19.590000  146000\n",
       "3  2019-02-19  19.500000  19.600000  19.10  19.549999  19.549999  138100\n",
       "4  2019-02-20  19.660000  20.059999  19.52  19.920000  19.920000  133400"
      ]
     },
     "execution_count": 285,
     "metadata": {},
     "output_type": "execute_result"
    }
   ],
   "source": [
    "df_data = dados.copy()\n",
    "df_data[\"Volume\"] = dados[\"Volume\"]\n",
    "\n",
    "df_data.head()"
   ]
  },
  {
   "cell_type": "code",
   "execution_count": 291,
   "metadata": {},
   "outputs": [],
   "source": [
    "df_data.drop('Date', axis=1, inplace=True)"
   ]
  },
  {
   "cell_type": "code",
   "execution_count": 292,
   "metadata": {},
   "outputs": [
    {
     "data": {
      "text/html": [
       "<div>\n",
       "<style scoped>\n",
       "    .dataframe tbody tr th:only-of-type {\n",
       "        vertical-align: middle;\n",
       "    }\n",
       "\n",
       "    .dataframe tbody tr th {\n",
       "        vertical-align: top;\n",
       "    }\n",
       "\n",
       "    .dataframe thead th {\n",
       "        text-align: right;\n",
       "    }\n",
       "</style>\n",
       "<table border=\"1\" class=\"dataframe\">\n",
       "  <thead>\n",
       "    <tr style=\"text-align: right;\">\n",
       "      <th></th>\n",
       "      <th>Open</th>\n",
       "      <th>High</th>\n",
       "      <th>Low</th>\n",
       "      <th>Close</th>\n",
       "      <th>Adj Close</th>\n",
       "      <th>Volume</th>\n",
       "    </tr>\n",
       "  </thead>\n",
       "  <tbody>\n",
       "    <tr>\n",
       "      <th>0</th>\n",
       "      <td>19.549999</td>\n",
       "      <td>19.670000</td>\n",
       "      <td>19.35</td>\n",
       "      <td>19.410000</td>\n",
       "      <td>19.410000</td>\n",
       "      <td>45800</td>\n",
       "    </tr>\n",
       "    <tr>\n",
       "      <th>1</th>\n",
       "      <td>19.299999</td>\n",
       "      <td>19.500000</td>\n",
       "      <td>19.09</td>\n",
       "      <td>19.129999</td>\n",
       "      <td>19.129999</td>\n",
       "      <td>89700</td>\n",
       "    </tr>\n",
       "    <tr>\n",
       "      <th>2</th>\n",
       "      <td>19.200001</td>\n",
       "      <td>19.639999</td>\n",
       "      <td>19.18</td>\n",
       "      <td>19.590000</td>\n",
       "      <td>19.590000</td>\n",
       "      <td>146000</td>\n",
       "    </tr>\n",
       "    <tr>\n",
       "      <th>3</th>\n",
       "      <td>19.500000</td>\n",
       "      <td>19.600000</td>\n",
       "      <td>19.10</td>\n",
       "      <td>19.549999</td>\n",
       "      <td>19.549999</td>\n",
       "      <td>138100</td>\n",
       "    </tr>\n",
       "    <tr>\n",
       "      <th>4</th>\n",
       "      <td>19.660000</td>\n",
       "      <td>20.059999</td>\n",
       "      <td>19.52</td>\n",
       "      <td>19.920000</td>\n",
       "      <td>19.920000</td>\n",
       "      <td>133400</td>\n",
       "    </tr>\n",
       "  </tbody>\n",
       "</table>\n",
       "</div>"
      ],
      "text/plain": [
       "        Open       High    Low      Close  Adj Close  Volume\n",
       "0  19.549999  19.670000  19.35  19.410000  19.410000   45800\n",
       "1  19.299999  19.500000  19.09  19.129999  19.129999   89700\n",
       "2  19.200001  19.639999  19.18  19.590000  19.590000  146000\n",
       "3  19.500000  19.600000  19.10  19.549999  19.549999  138100\n",
       "4  19.660000  20.059999  19.52  19.920000  19.920000  133400"
      ]
     },
     "execution_count": 292,
     "metadata": {},
     "output_type": "execute_result"
    }
   ],
   "source": [
    "df_data.head()"
   ]
  },
  {
   "cell_type": "code",
   "execution_count": 293,
   "metadata": {},
   "outputs": [],
   "source": [
    "# vamos definir uma funcao que recebe o dataframe e uma fracao de separacao e nos \n",
    "# retorno os dataframes de treino e teste, separanedo também features e target\n",
    "def gera_treino_teste(df, fracao):\n",
    "    n_amostras_treino = int(fracao * len(df))\n",
    "    n_amostras_teste  = len(df) - n_amostras_treino\n",
    "    \n",
    "    df_treino = df.sample(n_amostras_treino)\n",
    "    df_teste = df.sample(n_amostras_teste)    #teste contem os valores certos original\n",
    "    \n",
    "    df_features_treino = df_treino.drop(\"Volume\", axis=1)\n",
    "    df_target_treino = df_treino[\"Volume\"] \n",
    "\n",
    "    df_features_teste = df_teste.drop(\"Volume\", axis=1)     #teste contem os valores certos original\n",
    "    df_target_teste = df_teste[\"Volume\"]       #teste contem os valores certos original\n",
    "    \n",
    "    return df_features_treino, df_target_treino, df_features_teste, df_target_teste"
   ]
  },
  {
   "cell_type": "code",
   "execution_count": 294,
   "metadata": {},
   "outputs": [
    {
     "name": "stdout",
     "output_type": "stream",
     "text": [
      "Treino - (16, 5) features / (16,) target\n",
      "Teste - (4, 5) features / (4,) target\n"
     ]
    }
   ],
   "source": [
    "df_features_treino, df_target_treino, df_features_teste, df_target_teste = gera_treino_teste(df_data, 0.8)\n",
    "\n",
    "print(\"Treino - {} features / {} target\".format(df_features_treino.shape, df_target_treino.shape))\n",
    "print(\"Teste - {} features / {} target\".format(df_features_teste.shape, df_target_teste.shape))"
   ]
  },
  {
   "cell_type": "code",
   "execution_count": 295,
   "metadata": {},
   "outputs": [
    {
     "name": "stdout",
     "output_type": "stream",
     "text": [
      "A acurácia do modelo é -4.555844298230085\n"
     ]
    }
   ],
   "source": [
    "# teste com a configuracao padrao\n",
    "df_features_treino, df_target_treino, df_features_teste, df_target_teste = gera_treino_teste(df_data, 0.8)\n",
    "\n",
    "reg = linear_model.LinearRegression()\n",
    "reg.fit(df_features_treino, df_target_treino)\n",
    "\n",
    "\n",
    "score = reg.score(df_features_teste, df_target_teste)\n",
    "\n",
    "print(\"A acurácia do modelo é {}\".format(score))"
   ]
  },
  {
   "cell_type": "code",
   "execution_count": 296,
   "metadata": {},
   "outputs": [
    {
     "name": "stdout",
     "output_type": "stream",
     "text": [
      "Coefficients: \n",
      " [-100181.70332219   77889.02808661 -191641.87985421  120287.07268132\n",
      "  120287.07268132]\n",
      "Variance score: -4.555844298230085\n"
     ]
    }
   ],
   "source": [
    "# regression coefficients \n",
    "print('Coefficients: \\n', reg.coef_) \n",
    "  \n",
    "# variance score: 1 means perfect prediction \n",
    "print('Variance score: {}'.format(reg.score(df_features_teste, df_target_teste)))"
   ]
  },
  {
   "cell_type": "code",
   "execution_count": 297,
   "metadata": {},
   "outputs": [
    {
     "data": {
      "image/png": "[encoded data removed]",
      "text/plain": [
       "<Figure size 432x288 with 1 Axes>"
      ]
     },
     "metadata": {},
     "output_type": "display_data"
    }
   ],
   "source": [
    "# plot for residual error \n",
    "  \n",
    "## setting plot style \n",
    "plt.style.use('fivethirtyeight') \n",
    "  \n",
    "## plotting residual errors in training data \n",
    "plt.scatter(reg.predict(df_features_treino), reg.predict(df_features_treino) - df_target_treino, \n",
    "            color = \"green\", s = 10, label = 'Train data') \n",
    "  \n",
    "## plotting residual errors in test data \n",
    "plt.scatter(reg.predict(df_features_teste), reg.predict(df_features_teste) - df_target_teste, \n",
    "            color = \"blue\", s = 10, label = 'Test data')    #teste contem os valores certos original\n",
    "  \n",
    "## plotting line for zero residual error \n",
    "plt.hlines(y = 0, xmin = 0, xmax = 50, linewidth = 2) \n",
    "  \n",
    "## plotting legend \n",
    "plt.legend(loc = 'upper right') \n",
    "  \n",
    "## plot title \n",
    "plt.title(\"Residual errors\") \n",
    "  \n",
    "## function to show plot \n",
    "plt.show() "
   ]
  },
  {
   "cell_type": "code",
   "execution_count": null,
   "metadata": {},
   "outputs": [],
   "source": []
  }
 ],
 "metadata": {
  "kernelspec": {
   "display_name": "Python 3",
   "language": "python",
   "name": "python3"
  },
  "language_info": {
   "codemirror_mode": {
    "name": "ipython",
    "version": 3
   },
   "file_extension": ".py",
   "mimetype": "text/x-python",
   "name": "python",
   "nbconvert_exporter": "python",
   "pygments_lexer": "ipython3",
   "version": "3.6.4"
  }
 },
 "nbformat": 4,
 "nbformat_minor": 2
}
